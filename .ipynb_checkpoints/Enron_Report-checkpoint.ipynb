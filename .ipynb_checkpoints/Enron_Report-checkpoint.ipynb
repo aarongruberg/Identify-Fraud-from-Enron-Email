{
 "cells": [
  {
   "cell_type": "markdown",
   "metadata": {},
   "source": [
    "### Identify Fraud from Enron Email"
   ]
  },
  {
   "cell_type": "markdown",
   "metadata": {},
   "source": [
    "<p>Machine learning techniques were applied to data from 146 Enron employees.  There were 21 features for each employee and 3066 total data points.  The data for each employee fell into 3 categories: financial, email, and poi label.  The poi label signified whether or not an employee was a person of interest in the Enron case.  18 employees were labeled as a poi and 128 employees were not.  5 machine learning algorithms were deployed to predict an employee's poi label based on their financial and email features.  1 algorithm was selected and tuned for final analysis.</p>\n",
    "\n",
    "### Data Structure\n",
    "\n",
    "The data was stored in a dictionary of dictionaries.  For the outer dict, each key was a person and each value was a feature name.  For the inner dict, each key was a feature name and each value was the value of that feature.  \n",
    "\n",
    "```Python\n",
    "datadict['SKILLING JEFFREY K']['salary']\n",
    "```\n",
    "\n",
    "### Financial Features\n",
    "\n",
    "<p>['salary', 'deferral_payments', 'total_payments', 'loan_advances', 'bonus', 'restricted_stock_deferred', 'deferred_income', 'total_stock_value', 'expenses', 'exercised_stock_options', 'other', 'long_term_incentive', 'restricted_stock', 'director_fees'] (all units are in US dollars)</p>\n",
    "\n",
    "### Email Features\n",
    "\n",
    "<p>['to_messages', 'email_address', 'from_poi_to_this_person', 'from_messages', 'from_this_person_to_poi', 'shared_receipt_with_poi'] (units are generally number of emails messages; notable exception is ‘email_address’, which is a text string)</p>\n",
    "\n",
    "### POI Label\n",
    "\n",
    "<p>[‘poi’] (boolean, represented as integer)</p>"
   ]
  },
  {
   "cell_type": "markdown",
   "metadata": {},
   "source": [
    "### Missing Values\n",
    "\n",
    "<p>These are the total 'NaN' values for each feature.</p>\n",
    "\n",
    "POI: 0  \n",
    "Salary: 50  \n",
    "Deferred Income: 96  \n",
    "Loan Advances: 141  \n",
    "Other: 53  \n",
    "Long Term Incentive: 79  \n",
    "Percent Exercised Stock: 44  \n",
    "Percent Restricted Stock: 38  \n",
    "Percent Restricted Stock Deferred: 130  \n",
    "Percent to POI: 58  \n",
    "Percent from POI: 58  \n",
    "Percent Shared with POI: 58  \n",
    "Percent Deferral Payments: 106  \n",
    "Percent Expenses: 50  \n",
    "Percent Director Fees: 130  \n",
    "Percent Bonus: 63  \n"
   ]
  },
  {
   "cell_type": "markdown",
   "metadata": {},
   "source": [
    "### Outliers\n",
    "\n",
    "<p>Many outliers in this dataset were important because they helped identify persons of interest.  However, some outliers did not correspond to a person.  The max value for financial features was from a 'TOTAL' key rather than a 'PERSON' key.  Another non-person key 'THE TRAVEL AGENCY IN THE PARK' was identified and these keys were removed from the data dictionary.</p>"
   ]
  },
  {
   "cell_type": "code",
   "execution_count": null,
   "metadata": {
    "collapsed": true
   },
   "outputs": [],
   "source": []
  }
 ],
 "metadata": {
  "kernelspec": {
   "display_name": "Python 2",
   "language": "python",
   "name": "python2"
  },
  "language_info": {
   "codemirror_mode": {
    "name": "ipython",
    "version": 2
   },
   "file_extension": ".py",
   "mimetype": "text/x-python",
   "name": "python",
   "nbconvert_exporter": "python",
   "pygments_lexer": "ipython2",
   "version": "2.7.13"
  }
 },
 "nbformat": 4,
 "nbformat_minor": 2
}
